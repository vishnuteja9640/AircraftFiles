{
 "cells": [
  {
   "cell_type": "code",
   "execution_count": 1,
   "id": "185758d5",
   "metadata": {},
   "outputs": [],
   "source": [
    "import pandas as pd\n",
    "\n",
    "df = pd.read_csv(r'C:\\Users\\vnathani\\Desktop\\Material_Request_Details_Analysis\\grddyn.csv')\n",
    "\n",
    "df = df[['Aircraft Reg #', 'Material Request #', 'MR Created Date', 'MR Need Date', 'MR Part #', 'Part Description', 'MR Qty.', 'Issued Qty', 'PO #', 'STI #', 'Vendor Name', 'Requested By', 'Task#']]\n",
    "\n",
    "df.insert(df.columns.get_loc('Vendor Name') + 1, 'Tracking #', '')\n",
    "df.insert(df.columns.get_loc('Tracking #') + 1, 'Current ETA', '')\n",
    "df.insert(df.columns.get_loc('Current ETA') + 1, 'Notes:', '')\n",
    "df.insert(df.columns.get_loc('Task#') + 1, 'Escalate', '')\n",
    "df.insert(df.columns.get_loc('Escalate') + 1, 'Shipped', '')\n",
    "df.insert(df.columns.get_loc('Shipped') + 1, 'Delivered', '')\n",
    "df.insert(df.columns.get_loc('Delivered') + 1, 'Received', '')\n",
    "\n",
    "df.to_csv('grddyn.csv', index=False)\n",
    "\n",
    "filtered_df = df[df['Aircraft Reg #'].astype(str).str.startswith('4682')]\n",
    "\n",
    "\n",
    "import openpyxl\n",
    "import pandas as pd\n",
    "\n",
    "excel_file_path = r'C:\\Users\\vnathani\\Desktop\\Material_Request_Details_Analysis\\MESAZ-145 Parts Needs.xlsm'\n",
    "\n",
    "wb = openpyxl.load_workbook(excel_file_path, read_only=True)\n",
    "\n",
    "worksheet_name = '4682'\n",
    "ws = wb[worksheet_name]\n",
    "\n",
    "headers = [cell.value.strip() if cell.value else None for cell in ws[2]]\n",
    "\n",
    "acsn_index = headers.index('ACSN:')\n",
    "received_index = headers.index('Received')\n",
    "\n",
    "data_rows = []\n",
    "\n",
    "for row in ws.iter_rows(min_row=3, values_only=True):\n",
    "    \n",
    "    if str(row[acsn_index]) == '4682' and row[acsn_index] is not None:\n",
    "        data = row[acsn_index:received_index+1]\n",
    "        data_rows.append(data)\n",
    "\n",
    "filtered_master = pd.DataFrame(data_rows, columns=headers[acsn_index:received_index+1])\n",
    "\n",
    "import pandas as pd\n",
    "\n",
    "for index, row in filtered_df.iterrows():\n",
    "    match = filtered_master[\n",
    "        (filtered_master['Material Request'] == row['Material Request #']) &\n",
    "        (filtered_master['MR Part #'] == row['MR Part #'])\n",
    "    ]\n",
    "\n",
    "    if not match.empty:\n",
    "        matched_index = match.index[0] \n",
    "        filtered_master.at[matched_index, 'MR Created'] = row['MR Created Date']\n",
    "        filtered_master.at[matched_index, 'MR Need'] = row['MR Need Date']\n",
    "        filtered_master.at[matched_index, 'Part Description'] = row['Part Description']\n",
    "        filtered_master.at[matched_index, 'MR Qty.'] = row['MR Qty.']\n",
    "        if row['Issued Qty'] == filtered_master.at[matched_index, 'Issued Qty']:\n",
    "            pass\n",
    "        else:\n",
    "            temp = filtered_master.at[matched_index, 'Issued Qty'] - row['Issued Qty']\n",
    "            if temp > 0:\n",
    "                pass\n",
    "            else:\n",
    "                filtered_master.at[matched_index, 'Issued Qty'] = row['Issued Qty']\n",
    "                \n",
    "        filtered_master.at[matched_index, 'PO#'] = row['PO #']\n",
    "        filtered_master.at[matched_index, 'STI#'] = row['STI #']\n",
    "        filtered_master.at[matched_index, 'Vendor Name'] = row['Vendor Name']\n",
    "        filtered_master.at[matched_index, 'Requested By'] = row['Requested By']\n",
    "        filtered_master.at[matched_index, 'Task #'] = row['Task#']\n"
   ]
  },
  {
   "cell_type": "code",
   "execution_count": 11,
   "id": "dfee4514",
   "metadata": {},
   "outputs": [
    {
     "ename": "NameError",
     "evalue": "name 'filtered_master' is not defined",
     "output_type": "error",
     "traceback": [
      "\u001b[1;31m---------------------------------------------------------------------------\u001b[0m",
      "\u001b[1;31mNameError\u001b[0m                                 Traceback (most recent call last)",
      "Cell \u001b[1;32mIn[11], line 1\u001b[0m\n\u001b[1;32m----> 1\u001b[0m last_row_values \u001b[38;5;241m=\u001b[39m filtered_master\u001b[38;5;241m.\u001b[39mloc[filtered_master\u001b[38;5;241m.\u001b[39mindex[\u001b[38;5;241m-\u001b[39m\u001b[38;5;241m1\u001b[39m], [\u001b[38;5;124m'\u001b[39m\u001b[38;5;124mMaterial Request\u001b[39m\u001b[38;5;124m'\u001b[39m, \u001b[38;5;124m'\u001b[39m\u001b[38;5;124mMR Part #\u001b[39m\u001b[38;5;124m'\u001b[39m]]\n\u001b[0;32m      2\u001b[0m last_row_values\n",
      "\u001b[1;31mNameError\u001b[0m: name 'filtered_master' is not defined"
     ]
    }
   ],
   "source": [
    "last_row_values = filtered_master.loc[filtered_master.index[-1], ['Material Request', 'MR Part #']]\n",
    "last_row_values"
   ]
  },
  {
   "cell_type": "code",
   "execution_count": 12,
   "id": "7aa85ca0",
   "metadata": {},
   "outputs": [
    {
     "ename": "NameError",
     "evalue": "name 'filtered_df' is not defined",
     "output_type": "error",
     "traceback": [
      "\u001b[1;31m---------------------------------------------------------------------------\u001b[0m",
      "\u001b[1;31mNameError\u001b[0m                                 Traceback (most recent call last)",
      "Cell \u001b[1;32mIn[12], line 6\u001b[0m\n\u001b[0;32m      4\u001b[0m \u001b[38;5;66;03m# Your initial code to find the row number\u001b[39;00m\n\u001b[0;32m      5\u001b[0m \u001b[38;5;28;01mtry\u001b[39;00m:\n\u001b[1;32m----> 6\u001b[0m     row_number \u001b[38;5;241m=\u001b[39m filtered_df[(filtered_df[\u001b[38;5;124m'\u001b[39m\u001b[38;5;124mMaterial Request #\u001b[39m\u001b[38;5;124m'\u001b[39m] \u001b[38;5;241m==\u001b[39m last_row_values[\u001b[38;5;124m'\u001b[39m\u001b[38;5;124mMaterial Request\u001b[39m\u001b[38;5;124m'\u001b[39m]) \u001b[38;5;241m&\u001b[39m (filtered_df[\u001b[38;5;124m'\u001b[39m\u001b[38;5;124mMR Part #\u001b[39m\u001b[38;5;124m'\u001b[39m] \u001b[38;5;241m==\u001b[39m last_row_values[\u001b[38;5;124m'\u001b[39m\u001b[38;5;124mMR Part #\u001b[39m\u001b[38;5;124m'\u001b[39m])]\u001b[38;5;241m.\u001b[39mindex[\u001b[38;5;241m0\u001b[39m]\n\u001b[0;32m      8\u001b[0m     \u001b[38;5;66;03m# If there is no error, execute this block\u001b[39;00m\n\u001b[0;32m      9\u001b[0m     extended_rows \u001b[38;5;241m=\u001b[39m filtered_df\u001b[38;5;241m.\u001b[39mloc[row_number\u001b[38;5;241m+\u001b[39m\u001b[38;5;241m1\u001b[39m:]\n",
      "\u001b[1;31mNameError\u001b[0m: name 'filtered_df' is not defined"
     ]
    }
   ],
   "source": [
    "import os\n",
    "import pandas as pd\n",
    "\n",
    "# Your initial code to find the row number\n",
    "try:\n",
    "    row_number = filtered_df[(filtered_df['Material Request #'] == last_row_values['Material Request']) & (filtered_df['MR Part #'] == last_row_values['MR Part #'])].index[0]\n",
    "    \n",
    "    # If there is no error, execute this block\n",
    "    extended_rows = filtered_df.loc[row_number+1:]\n",
    "    extended_rows.columns = filtered_master.columns\n",
    "    filtered_master = pd.concat([filtered_master, extended_rows], ignore_index=True)\n",
    "    \n",
    "    # Define file path\n",
    "    file_path = r'C:\\Users\\vnathani\\airmethods.com\\145 Repair Station - 145 Mesa Misc Files\\Dashboard\\4682_updated.xlsx'\n",
    "\n",
    "    # Check if the file already exists and remove it\n",
    "    if os.path.exists(file_path):\n",
    "        os.remove(file_path)  \n",
    "\n",
    "    # Save the new Excel file\n",
    "    filtered_master.to_excel(file_path, index=False)\n",
    "\n",
    "except IndexError:\n",
    "    # If the error occurs, execute this block\n",
    "    file_path = r'C:\\Users\\vnathani\\airmethods.com\\145 Repair Station - 145 Mesa Misc Files\\Dashboard\\4682_updated.xlsx'\n",
    "\n",
    "    # Check if the file already exists and remove it\n",
    "    if os.path.exists(file_path):\n",
    "        os.remove(file_path)  \n",
    "\n",
    "    # Save the new Excel file\n",
    "    filtered_master.to_excel(file_path, index=False)\n"
   ]
  },
  {
   "cell_type": "code",
   "execution_count": null,
   "id": "076c13fa",
   "metadata": {},
   "outputs": [],
   "source": []
  },
  {
   "cell_type": "code",
   "execution_count": null,
   "id": "a1c1c96b",
   "metadata": {},
   "outputs": [],
   "source": []
  },
  {
   "cell_type": "code",
   "execution_count": null,
   "id": "41305742",
   "metadata": {},
   "outputs": [],
   "source": []
  },
  {
   "cell_type": "code",
   "execution_count": null,
   "id": "ebba792b",
   "metadata": {},
   "outputs": [],
   "source": []
  },
  {
   "cell_type": "code",
   "execution_count": null,
   "id": "a678658f",
   "metadata": {},
   "outputs": [],
   "source": []
  },
  {
   "cell_type": "code",
   "execution_count": null,
   "id": "6183ccac",
   "metadata": {},
   "outputs": [],
   "source": []
  },
  {
   "cell_type": "code",
   "execution_count": null,
   "id": "f09f07f6",
   "metadata": {},
   "outputs": [],
   "source": []
  },
  {
   "cell_type": "code",
   "execution_count": null,
   "id": "d1c0b20f",
   "metadata": {},
   "outputs": [],
   "source": []
  },
  {
   "cell_type": "code",
   "execution_count": null,
   "id": "fbc993f2",
   "metadata": {},
   "outputs": [],
   "source": []
  }
 ],
 "metadata": {
  "kernelspec": {
   "display_name": "Python 3 (ipykernel)",
   "language": "python",
   "name": "python3"
  },
  "language_info": {
   "codemirror_mode": {
    "name": "ipython",
    "version": 3
   },
   "file_extension": ".py",
   "mimetype": "text/x-python",
   "name": "python",
   "nbconvert_exporter": "python",
   "pygments_lexer": "ipython3",
   "version": "3.11.5"
  }
 },
 "nbformat": 4,
 "nbformat_minor": 5
}
